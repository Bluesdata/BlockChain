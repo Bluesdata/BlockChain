{
 "nbformat": 4,
 "nbformat_minor": 2,
 "metadata": {
  "language_info": {
   "name": "python",
   "codemirror_mode": {
    "name": "ipython",
    "version": 3
   },
   "version": "3.7.0-final"
  },
  "orig_nbformat": 2,
  "file_extension": ".py",
  "mimetype": "text/x-python",
  "name": "python",
  "npconvert_exporter": "python",
  "pygments_lexer": "ipython3",
  "version": 3,
  "kernelspec": {
   "name": "python37032bit7436dbd74b2c4995a8fc5f84e71f8fb0",
   "display_name": "Python 3.7.0 32-bit"
  }
 },
 "cells": [
  {
   "cell_type": "code",
   "execution_count": 1,
   "metadata": {},
   "outputs": [],
   "source": [
    "import numpy as np"
   ]
  },
  {
   "cell_type": "code",
   "execution_count": 2,
   "metadata": {},
   "outputs": [],
   "source": [
    "data=np.loadtxt(open('.\\machine-learning-exercise-master\\coursera-machine-learning-python\\ex1\\ex1data2.txt','r'),delimiter=',')\n",
    "X=data[:,0:2]\n",
    "y=data[:,2]\n",
    "m=len(y)"
   ]
  },
  {
   "cell_type": "code",
   "execution_count": 4,
   "metadata": {},
   "outputs": [
    {
     "output_type": "stream",
     "name": "stdout",
     "text": "First 10 examples from datast:\n\nx= [2104.    3.] y= 399900.0\nx= [1600.    3.] y= 329900.0\nx= [2400.    3.] y= 369000.0\nx= [1416.    2.] y= 232000.0\nx= [3000.    4.] y= 539900.0\nx= [1985.    4.] y= 299900.0\nx= [1534.    3.] y= 314900.0\nx= [1427.    3.] y= 198999.0\nx= [1380.    3.] y= 212000.0\nx= [1494.    3.] y= 242500.0\n"
    }
   ],
   "source": [
    "print('First 10 examples from datast:\\n')\n",
    "for i in range(10):\n",
    "    print(\"x=\",X[i,:],'y=',y[i])"
   ]
  },
  {
   "cell_type": "code",
   "execution_count": 5,
   "metadata": {},
   "outputs": [],
   "source": [
    "#数据正态化\n",
    "def feature_normalize(X):\n",
    "    mu=np.mean(X,axis=0)\n",
    "    sigma=np.std(X,axis=0,ddof=1)\n",
    "    X_norm=(X-mu)/sigma\n",
    "    return X_norm,mu,sigma"
   ]
  },
  {
   "cell_type": "code",
   "execution_count": 6,
   "metadata": {},
   "outputs": [],
   "source": [
    "#增加截距项\n",
    "X,mu,sigma=feature_normalize(X)\n",
    "X=np.hstack((np.ones((m,1)),X))"
   ]
  },
  {
   "cell_type": "code",
   "execution_count": 7,
   "metadata": {},
   "outputs": [],
   "source": [
    "#定义损失函数\n",
    "def compute_multi(X,y,theta):\n",
    "    m=len(y)\n",
    "    diff=X.dot(theta)-y\n",
    "    J=1.0/(2*m)*diff.T.dot(diff)\n",
    "    return J"
   ]
  },
  {
   "cell_type": "code",
   "execution_count": 8,
   "metadata": {},
   "outputs": [],
   "source": [
    "#定义梯度下降\n",
    "def gradient_descent_multi(X,y,theta,alpha,num_iters):\n",
    "    m=len(y)\n",
    "    J_history=np.zeros(num_iters)\n",
    "    for i in range(num_iters):\n",
    "        theta-=alpha/m*((X.dot(theta)-y).T.dot(X))\n",
    "        J_history[i]=compute_multi(X,y,theta)\n",
    "    return theta,J_history"
   ]
  },
  {
   "cell_type": "code",
   "execution_count": 11,
   "metadata": {},
   "outputs": [],
   "source": [
    "alpha=0.15\n",
    "num_iters=400\n",
    "theta=np.zeros(3)"
   ]
  },
  {
   "cell_type": "code",
   "execution_count": 12,
   "metadata": {},
   "outputs": [],
   "source": [
    "#计算梯度下降\n",
    "theta,J_history=gradient_descent_multi(X,y,theta,alpha,num_iters)"
   ]
  },
  {
   "cell_type": "code",
   "execution_count": 14,
   "metadata": {},
   "outputs": [
    {
     "output_type": "display_data",
     "data": {
      "text/plain": "<Figure size 432x288 with 1 Axes>",
      "image/png": "[encoded data removed]"
     },
     "metadata": {
      "needs_background": "light"
     }
    }
   ],
   "source": [
    "#梯度下降曲线\n",
    "import matplotlib.pyplot as plt\n",
    "plt.figure()\n",
    "plt.plot(range(1,num_iters+1),J_history,color='b')\n",
    "plt.xlabel('Number of iterations')\n",
    "plt.ylabel('Cost J')\n",
    "plt.show()"
   ]
  },
  {
   "cell_type": "code",
   "execution_count": 15,
   "metadata": {},
   "outputs": [
    {
     "output_type": "stream",
     "name": "stdout",
     "text": "Theta computed from gradient descent\n[340412.65957447 110631.0502787   -6649.47427067]\n"
    }
   ],
   "source": [
    "print('Theta computed from gradient descent')\n",
    "print(theta)"
   ]
  },
  {
   "cell_type": "code",
   "execution_count": 16,
   "metadata": {},
   "outputs": [
    {
     "output_type": "stream",
     "name": "stdout",
     "text": "Predicted Price of a 1650 sq-ft 3 br house: 293081.46433492796\n"
    }
   ],
   "source": [
    "#预测\n",
    "normalize_test_data=((np.array([1650,3])-mu)/sigma)\n",
    "normalize_test_data=np.hstack((np.ones(1),normalize_test_data))\n",
    "price=normalize_test_data.dot(theta)\n",
    "print('Predicted Price of a 1650 sq-ft 3 br house:',price)"
   ]
  },
  {
   "cell_type": "code",
   "execution_count": 17,
   "metadata": {},
   "outputs": [],
   "source": [
    "#正态方程\n",
    "data=np.loadtxt(open('.\\machine-learning-exercise-master\\coursera-machine-learning-python\\ex1\\ex1data2.txt','r'),delimiter=',')\n",
    "X=data[:,0:2]\n",
    "y=data[:,2]\n",
    "m=len(y)\n",
    "X=np.hstack((np.ones((m,1)),X))"
   ]
  },
  {
   "cell_type": "code",
   "execution_count": 18,
   "metadata": {},
   "outputs": [],
   "source": [
    "#定义正太方程\n",
    "def normal_eqn(X,y):\n",
    "    theta=np.linalg.pinv(X.T.dot(X)).dot(X.T).dot(y)\n",
    "    return theta"
   ]
  },
  {
   "cell_type": "code",
   "execution_count": 19,
   "metadata": {},
   "outputs": [
    {
     "output_type": "stream",
     "name": "stdout",
     "text": "Theta computed from the normal equations:\n[89597.90954355   139.21067402 -8738.01911255]\n"
    }
   ],
   "source": [
    "theta=normal_eqn(X,y)\n",
    "print('Theta computed from the normal equations:')\n",
    "print(theta)"
   ]
  },
  {
   "cell_type": "code",
   "execution_count": 20,
   "metadata": {},
   "outputs": [
    {
     "output_type": "stream",
     "name": "stdout",
     "text": "Predicted price of a 1650 sq-ft 3 br house(using normal equations): 293081.4643349721\n"
    }
   ],
   "source": [
    "price=np.array([1,1650,3]).dot(theta)\n",
    "print('Predicted price of a 1650 sq-ft 3 br house(using normal equations):',price)"
   ]
  },
  {
   "cell_type": "code",
   "execution_count": null,
   "metadata": {},
   "outputs": [],
   "source": []
  }
 ]
}